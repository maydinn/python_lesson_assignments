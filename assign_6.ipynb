{
 "cells": [
  {
   "cell_type": "code",
   "execution_count": 1,
   "metadata": {},
   "outputs": [],
   "source": [
    "import numpy as np\n",
    "import matplotlib.pyplot as plt\n",
    "import seaborn as sns\n",
    "from scipy import stats"
   ]
  },
  {
   "cell_type": "markdown",
   "metadata": {},
   "source": [
    "EXERCISE 1. \n"
   ]
  },
  {
   "cell_type": "code",
   "execution_count": 20,
   "metadata": {},
   "outputs": [],
   "source": [
    "binomDist = stats.binom(10, 0.01)"
   ]
  },
  {
   "cell_type": "code",
   "execution_count": null,
   "metadata": {},
   "outputs": [],
   "source": [
    "df = pd.DataFrame(liste)"
   ]
  },
  {
   "cell_type": "code",
   "execution_count": null,
   "metadata": {},
   "outputs": [],
   "source": []
  },
  {
   "cell_type": "code",
   "execution_count": 39,
   "metadata": {},
   "outputs": [
    {
     "name": "stdout",
     "output_type": "stream",
     "text": [
      "r\tp(r)\n"
     ]
    }
   ],
   "source": [
    "p_liste = [ 0.05, 0.10, 0.20, 0.30, 0.40, 0.50, 0.60, 0.70, 0.80, 0.90, 0.95, 0.99]\n",
    "print(\"r\\tp(r)\")\n",
    "\n",
    "for n in p_liste:\n",
    "    binomDist = stats.binom(10, n)\n",
    "    liste=[]\n",
    "    for i in range(10):\n",
    "        liste.append(binomDist.cdf(i))\n",
    "    df[n] = pd.DataFrame(liste)"
   ]
  },
  {
   "cell_type": "code",
   "execution_count": 36,
   "metadata": {},
   "outputs": [
    {
     "data": {
      "text/plain": [
       "[0.9043820750088044,\n",
       " 0.9957337997571686,\n",
       " 0.9998861508820942,\n",
       " 0.9999979987238431,\n",
       " 0.9999999758321568,\n",
       " 0.9999999997971061,\n",
       " 0.9999999999988313,\n",
       " 0.9999999999999956,\n",
       " 0.9999999999999999,\n",
       " 0.9999999999999999]"
      ]
     },
     "execution_count": 36,
     "metadata": {},
     "output_type": "execute_result"
    }
   ],
   "source": [
    "liste"
   ]
  },
  {
   "cell_type": "code",
   "execution_count": 37,
   "metadata": {},
   "outputs": [],
   "source": [
    "df = pd.DataFrame(liste)"
   ]
  },
  {
   "cell_type": "code",
   "execution_count": 38,
   "metadata": {},
   "outputs": [
    {
     "data": {
      "text/html": [
       "<div>\n",
       "<style scoped>\n",
       "    .dataframe tbody tr th:only-of-type {\n",
       "        vertical-align: middle;\n",
       "    }\n",
       "\n",
       "    .dataframe tbody tr th {\n",
       "        vertical-align: top;\n",
       "    }\n",
       "\n",
       "    .dataframe thead th {\n",
       "        text-align: right;\n",
       "    }\n",
       "</style>\n",
       "<table border=\"1\" class=\"dataframe\">\n",
       "  <thead>\n",
       "    <tr style=\"text-align: right;\">\n",
       "      <th></th>\n",
       "      <th>0</th>\n",
       "    </tr>\n",
       "  </thead>\n",
       "  <tbody>\n",
       "    <tr>\n",
       "      <th>0</th>\n",
       "      <td>0.904382</td>\n",
       "    </tr>\n",
       "    <tr>\n",
       "      <th>1</th>\n",
       "      <td>0.995734</td>\n",
       "    </tr>\n",
       "    <tr>\n",
       "      <th>2</th>\n",
       "      <td>0.999886</td>\n",
       "    </tr>\n",
       "    <tr>\n",
       "      <th>3</th>\n",
       "      <td>0.999998</td>\n",
       "    </tr>\n",
       "    <tr>\n",
       "      <th>4</th>\n",
       "      <td>1.000000</td>\n",
       "    </tr>\n",
       "    <tr>\n",
       "      <th>5</th>\n",
       "      <td>1.000000</td>\n",
       "    </tr>\n",
       "    <tr>\n",
       "      <th>6</th>\n",
       "      <td>1.000000</td>\n",
       "    </tr>\n",
       "    <tr>\n",
       "      <th>7</th>\n",
       "      <td>1.000000</td>\n",
       "    </tr>\n",
       "    <tr>\n",
       "      <th>8</th>\n",
       "      <td>1.000000</td>\n",
       "    </tr>\n",
       "    <tr>\n",
       "      <th>9</th>\n",
       "      <td>1.000000</td>\n",
       "    </tr>\n",
       "  </tbody>\n",
       "</table>\n",
       "</div>"
      ],
      "text/plain": [
       "          0\n",
       "0  0.904382\n",
       "1  0.995734\n",
       "2  0.999886\n",
       "3  0.999998\n",
       "4  1.000000\n",
       "5  1.000000\n",
       "6  1.000000\n",
       "7  1.000000\n",
       "8  1.000000\n",
       "9  1.000000"
      ]
     },
     "execution_count": 38,
     "metadata": {},
     "output_type": "execute_result"
    }
   ],
   "source": [
    "df"
   ]
  },
  {
   "cell_type": "code",
   "execution_count": 40,
   "metadata": {},
   "outputs": [
    {
     "data": {
      "text/html": [
       "<div>\n",
       "<style scoped>\n",
       "    .dataframe tbody tr th:only-of-type {\n",
       "        vertical-align: middle;\n",
       "    }\n",
       "\n",
       "    .dataframe tbody tr th {\n",
       "        vertical-align: top;\n",
       "    }\n",
       "\n",
       "    .dataframe thead th {\n",
       "        text-align: right;\n",
       "    }\n",
       "</style>\n",
       "<table border=\"1\" class=\"dataframe\">\n",
       "  <thead>\n",
       "    <tr style=\"text-align: right;\">\n",
       "      <th></th>\n",
       "      <th>0.00</th>\n",
       "      <th>0.05</th>\n",
       "      <th>0.10</th>\n",
       "      <th>0.20</th>\n",
       "      <th>0.30</th>\n",
       "      <th>0.40</th>\n",
       "      <th>0.50</th>\n",
       "      <th>0.60</th>\n",
       "      <th>0.70</th>\n",
       "      <th>0.80</th>\n",
       "      <th>0.90</th>\n",
       "      <th>0.95</th>\n",
       "      <th>0.99</th>\n",
       "    </tr>\n",
       "  </thead>\n",
       "  <tbody>\n",
       "    <tr>\n",
       "      <th>0</th>\n",
       "      <td>0.904382</td>\n",
       "      <td>0.598737</td>\n",
       "      <td>0.348678</td>\n",
       "      <td>0.107374</td>\n",
       "      <td>0.028248</td>\n",
       "      <td>0.006047</td>\n",
       "      <td>0.000977</td>\n",
       "      <td>0.000105</td>\n",
       "      <td>0.000006</td>\n",
       "      <td>1.024000e-07</td>\n",
       "      <td>1.000000e-10</td>\n",
       "      <td>9.765625e-14</td>\n",
       "      <td>1.000000e-20</td>\n",
       "    </tr>\n",
       "    <tr>\n",
       "      <th>1</th>\n",
       "      <td>0.995734</td>\n",
       "      <td>0.913862</td>\n",
       "      <td>0.736099</td>\n",
       "      <td>0.375810</td>\n",
       "      <td>0.149308</td>\n",
       "      <td>0.046357</td>\n",
       "      <td>0.010742</td>\n",
       "      <td>0.001678</td>\n",
       "      <td>0.000144</td>\n",
       "      <td>4.198400e-06</td>\n",
       "      <td>9.100000e-09</td>\n",
       "      <td>1.865234e-11</td>\n",
       "      <td>9.910000e-18</td>\n",
       "    </tr>\n",
       "    <tr>\n",
       "      <th>2</th>\n",
       "      <td>0.999886</td>\n",
       "      <td>0.988496</td>\n",
       "      <td>0.929809</td>\n",
       "      <td>0.677800</td>\n",
       "      <td>0.382783</td>\n",
       "      <td>0.167290</td>\n",
       "      <td>0.054688</td>\n",
       "      <td>0.012295</td>\n",
       "      <td>0.001590</td>\n",
       "      <td>7.792640e-05</td>\n",
       "      <td>3.736000e-07</td>\n",
       "      <td>1.605078e-09</td>\n",
       "      <td>4.420360e-15</td>\n",
       "    </tr>\n",
       "    <tr>\n",
       "      <th>3</th>\n",
       "      <td>0.999998</td>\n",
       "      <td>0.998972</td>\n",
       "      <td>0.987205</td>\n",
       "      <td>0.879126</td>\n",
       "      <td>0.649611</td>\n",
       "      <td>0.382281</td>\n",
       "      <td>0.171875</td>\n",
       "      <td>0.054762</td>\n",
       "      <td>0.010592</td>\n",
       "      <td>8.643584e-04</td>\n",
       "      <td>9.121600e-06</td>\n",
       "      <td>8.198398e-08</td>\n",
       "      <td>1.168779e-12</td>\n",
       "    </tr>\n",
       "    <tr>\n",
       "      <th>4</th>\n",
       "      <td>1.000000</td>\n",
       "      <td>0.999936</td>\n",
       "      <td>0.998365</td>\n",
       "      <td>0.967207</td>\n",
       "      <td>0.849732</td>\n",
       "      <td>0.633103</td>\n",
       "      <td>0.376953</td>\n",
       "      <td>0.166239</td>\n",
       "      <td>0.047349</td>\n",
       "      <td>6.369382e-03</td>\n",
       "      <td>1.469026e-04</td>\n",
       "      <td>2.754583e-06</td>\n",
       "      <td>2.028939e-10</td>\n",
       "    </tr>\n",
       "    <tr>\n",
       "      <th>5</th>\n",
       "      <td>1.000000</td>\n",
       "      <td>0.999997</td>\n",
       "      <td>0.999853</td>\n",
       "      <td>0.993631</td>\n",
       "      <td>0.952651</td>\n",
       "      <td>0.833761</td>\n",
       "      <td>0.623047</td>\n",
       "      <td>0.366897</td>\n",
       "      <td>0.150268</td>\n",
       "      <td>3.279350e-02</td>\n",
       "      <td>1.634937e-03</td>\n",
       "      <td>6.368983e-05</td>\n",
       "      <td>2.416784e-08</td>\n",
       "    </tr>\n",
       "    <tr>\n",
       "      <th>6</th>\n",
       "      <td>1.000000</td>\n",
       "      <td>1.000000</td>\n",
       "      <td>0.999991</td>\n",
       "      <td>0.999136</td>\n",
       "      <td>0.989408</td>\n",
       "      <td>0.945238</td>\n",
       "      <td>0.828125</td>\n",
       "      <td>0.617719</td>\n",
       "      <td>0.350389</td>\n",
       "      <td>1.208739e-01</td>\n",
       "      <td>1.279520e-02</td>\n",
       "      <td>1.028498e-03</td>\n",
       "      <td>2.001276e-06</td>\n",
       "    </tr>\n",
       "    <tr>\n",
       "      <th>7</th>\n",
       "      <td>1.000000</td>\n",
       "      <td>1.000000</td>\n",
       "      <td>1.000000</td>\n",
       "      <td>0.999922</td>\n",
       "      <td>0.998410</td>\n",
       "      <td>0.987705</td>\n",
       "      <td>0.945312</td>\n",
       "      <td>0.832710</td>\n",
       "      <td>0.617217</td>\n",
       "      <td>3.222005e-01</td>\n",
       "      <td>7.019083e-02</td>\n",
       "      <td>1.150356e-02</td>\n",
       "      <td>1.138491e-04</td>\n",
       "    </tr>\n",
       "    <tr>\n",
       "      <th>8</th>\n",
       "      <td>1.000000</td>\n",
       "      <td>1.000000</td>\n",
       "      <td>1.000000</td>\n",
       "      <td>0.999996</td>\n",
       "      <td>0.999856</td>\n",
       "      <td>0.998322</td>\n",
       "      <td>0.989258</td>\n",
       "      <td>0.953643</td>\n",
       "      <td>0.850692</td>\n",
       "      <td>6.241904e-01</td>\n",
       "      <td>2.639011e-01</td>\n",
       "      <td>8.613836e-02</td>\n",
       "      <td>4.266200e-03</td>\n",
       "    </tr>\n",
       "    <tr>\n",
       "      <th>9</th>\n",
       "      <td>1.000000</td>\n",
       "      <td>1.000000</td>\n",
       "      <td>1.000000</td>\n",
       "      <td>1.000000</td>\n",
       "      <td>0.999994</td>\n",
       "      <td>0.999895</td>\n",
       "      <td>0.999023</td>\n",
       "      <td>0.993953</td>\n",
       "      <td>0.971752</td>\n",
       "      <td>8.926258e-01</td>\n",
       "      <td>6.513216e-01</td>\n",
       "      <td>4.012631e-01</td>\n",
       "      <td>9.561792e-02</td>\n",
       "    </tr>\n",
       "  </tbody>\n",
       "</table>\n",
       "</div>"
      ],
      "text/plain": [
       "       0.00      0.05      0.10      0.20      0.30      0.40      0.50  \\\n",
       "0  0.904382  0.598737  0.348678  0.107374  0.028248  0.006047  0.000977   \n",
       "1  0.995734  0.913862  0.736099  0.375810  0.149308  0.046357  0.010742   \n",
       "2  0.999886  0.988496  0.929809  0.677800  0.382783  0.167290  0.054688   \n",
       "3  0.999998  0.998972  0.987205  0.879126  0.649611  0.382281  0.171875   \n",
       "4  1.000000  0.999936  0.998365  0.967207  0.849732  0.633103  0.376953   \n",
       "5  1.000000  0.999997  0.999853  0.993631  0.952651  0.833761  0.623047   \n",
       "6  1.000000  1.000000  0.999991  0.999136  0.989408  0.945238  0.828125   \n",
       "7  1.000000  1.000000  1.000000  0.999922  0.998410  0.987705  0.945312   \n",
       "8  1.000000  1.000000  1.000000  0.999996  0.999856  0.998322  0.989258   \n",
       "9  1.000000  1.000000  1.000000  1.000000  0.999994  0.999895  0.999023   \n",
       "\n",
       "       0.60      0.70          0.80          0.90          0.95          0.99  \n",
       "0  0.000105  0.000006  1.024000e-07  1.000000e-10  9.765625e-14  1.000000e-20  \n",
       "1  0.001678  0.000144  4.198400e-06  9.100000e-09  1.865234e-11  9.910000e-18  \n",
       "2  0.012295  0.001590  7.792640e-05  3.736000e-07  1.605078e-09  4.420360e-15  \n",
       "3  0.054762  0.010592  8.643584e-04  9.121600e-06  8.198398e-08  1.168779e-12  \n",
       "4  0.166239  0.047349  6.369382e-03  1.469026e-04  2.754583e-06  2.028939e-10  \n",
       "5  0.366897  0.150268  3.279350e-02  1.634937e-03  6.368983e-05  2.416784e-08  \n",
       "6  0.617719  0.350389  1.208739e-01  1.279520e-02  1.028498e-03  2.001276e-06  \n",
       "7  0.832710  0.617217  3.222005e-01  7.019083e-02  1.150356e-02  1.138491e-04  \n",
       "8  0.953643  0.850692  6.241904e-01  2.639011e-01  8.613836e-02  4.266200e-03  \n",
       "9  0.993953  0.971752  8.926258e-01  6.513216e-01  4.012631e-01  9.561792e-02  "
      ]
     },
     "execution_count": 40,
     "metadata": {},
     "output_type": "execute_result"
    }
   ],
   "source": [
    "df"
   ]
  },
  {
   "cell_type": "markdown",
   "metadata": {},
   "source": [
    "EXERCISE 2. "
   ]
  },
  {
   "cell_type": "markdown",
   "metadata": {},
   "source": [
    "1."
   ]
  },
  {
   "cell_type": "code",
   "execution_count": 49,
   "metadata": {},
   "outputs": [],
   "source": [
    "binomDist = stats.binom(10, 0.3)"
   ]
  },
  {
   "cell_type": "code",
   "execution_count": 55,
   "metadata": {},
   "outputs": [
    {
     "data": {
      "text/plain": [
       "0.9717524751000001"
      ]
     },
     "execution_count": 55,
     "metadata": {},
     "output_type": "execute_result"
    }
   ],
   "source": [
    "1-binomDist.cdf(0)"
   ]
  },
  {
   "cell_type": "markdown",
   "metadata": {},
   "source": [
    "2."
   ]
  },
  {
   "cell_type": "code",
   "execution_count": 56,
   "metadata": {},
   "outputs": [],
   "source": [
    "binomDist = stats.binom(10, 0.5)"
   ]
  },
  {
   "cell_type": "code",
   "execution_count": 57,
   "metadata": {},
   "outputs": [
    {
     "data": {
      "text/plain": [
       "0.0546875"
      ]
     },
     "execution_count": 57,
     "metadata": {},
     "output_type": "execute_result"
    }
   ],
   "source": [
    "1-binomDist.cdf(7)"
   ]
  },
  {
   "cell_type": "code",
   "execution_count": 60,
   "metadata": {},
   "outputs": [
    {
     "data": {
      "text/plain": [
       "0.11718750000000014"
      ]
     },
     "execution_count": 60,
     "metadata": {},
     "output_type": "execute_result"
    }
   ],
   "source": [
    "binomDist.pmf(7)"
   ]
  },
  {
   "cell_type": "code",
   "execution_count": 61,
   "metadata": {},
   "outputs": [
    {
     "data": {
      "text/plain": [
       "0.9453125"
      ]
     },
     "execution_count": 61,
     "metadata": {},
     "output_type": "execute_result"
    }
   ],
   "source": [
    "binomDist.cdf(7)"
   ]
  },
  {
   "cell_type": "markdown",
   "metadata": {},
   "source": [
    "EXERCISE 3. "
   ]
  },
  {
   "cell_type": "markdown",
   "metadata": {},
   "source": [
    "1."
   ]
  },
  {
   "cell_type": "code",
   "execution_count": 62,
   "metadata": {},
   "outputs": [],
   "source": [
    "poissonDist = stats.poisson(5)"
   ]
  },
  {
   "cell_type": "code",
   "execution_count": 64,
   "metadata": {},
   "outputs": [
    {
     "data": {
      "text/plain": [
       "0.013695268598382881"
      ]
     },
     "execution_count": 64,
     "metadata": {},
     "output_type": "execute_result"
    }
   ],
   "source": [
    "1-poissonDist.cdf(10)"
   ]
  },
  {
   "cell_type": "markdown",
   "metadata": {},
   "source": [
    "2."
   ]
  },
  {
   "cell_type": "code",
   "execution_count": 65,
   "metadata": {},
   "outputs": [],
   "source": [
    "poissonDist = stats.poisson(2)"
   ]
  },
  {
   "cell_type": "code",
   "execution_count": 66,
   "metadata": {},
   "outputs": [
    {
     "data": {
      "text/plain": [
       "0.09022352215774178"
      ]
     },
     "execution_count": 66,
     "metadata": {},
     "output_type": "execute_result"
    }
   ],
   "source": [
    "poissonDist.pmf(4)"
   ]
  },
  {
   "cell_type": "code",
   "execution_count": 67,
   "metadata": {},
   "outputs": [
    {
     "data": {
      "text/plain": [
       "0.14287653950145296"
      ]
     },
     "execution_count": 67,
     "metadata": {},
     "output_type": "execute_result"
    }
   ],
   "source": [
    "1-poissonDist.cdf(3)"
   ]
  },
  {
   "cell_type": "code",
   "execution_count": 68,
   "metadata": {},
   "outputs": [
    {
     "data": {
      "text/plain": [
       "0.857123460498547"
      ]
     },
     "execution_count": 68,
     "metadata": {},
     "output_type": "execute_result"
    }
   ],
   "source": [
    "poissonDist.cdf(3)"
   ]
  },
  {
   "cell_type": "code",
   "execution_count": 69,
   "metadata": {},
   "outputs": [
    {
     "data": {
      "text/plain": [
       "0.3233235838169366"
      ]
     },
     "execution_count": 69,
     "metadata": {},
     "output_type": "execute_result"
    }
   ],
   "source": [
    "1-poissonDist.cdf(2)"
   ]
  },
  {
   "cell_type": "markdown",
   "metadata": {},
   "source": [
    "EXERCISE 4. "
   ]
  },
  {
   "cell_type": "code",
   "execution_count": 70,
   "metadata": {},
   "outputs": [],
   "source": [
    "binomDist = stats.binom(20, 0.05)"
   ]
  },
  {
   "cell_type": "code",
   "execution_count": 72,
   "metadata": {},
   "outputs": [],
   "source": [
    "poissonDist = stats.poisson(0.05)"
   ]
  },
  {
   "cell_type": "code",
   "execution_count": 71,
   "metadata": {},
   "outputs": [
    {
     "name": "stdout",
     "output_type": "stream",
     "text": [
      "0.3584859224085422\n",
      "0.3773536025353074\n",
      "0.18867680126765365\n",
      "0.05958214776873269\n",
      "0.013327585685111255\n"
     ]
    }
   ],
   "source": [
    "for i in range(5):\n",
    "    print(binomDist.pmf(i))"
   ]
  },
  {
   "cell_type": "code",
   "execution_count": 74,
   "metadata": {},
   "outputs": [
    {
     "name": "stdout",
     "output_type": "stream",
     "text": [
      "0.951229424500714\n",
      "0.04756147122503571\n",
      "0.001189036780625893\n",
      "1.9817279677098202e-05\n",
      "2.4771599596372765e-07\n"
     ]
    }
   ],
   "source": [
    "for i in range(5):\n",
    "    print(poissonDist.pmf(i))"
   ]
  },
  {
   "cell_type": "code",
   "execution_count": null,
   "metadata": {},
   "outputs": [],
   "source": []
  }
 ],
 "metadata": {
  "kernelspec": {
   "display_name": "Python 3",
   "language": "python",
   "name": "python3"
  },
  "language_info": {
   "codemirror_mode": {
    "name": "ipython",
    "version": 3
   },
   "file_extension": ".py",
   "mimetype": "text/x-python",
   "name": "python",
   "nbconvert_exporter": "python",
   "pygments_lexer": "ipython3",
   "version": "3.7.6"
  }
 },
 "nbformat": 4,
 "nbformat_minor": 4
}
