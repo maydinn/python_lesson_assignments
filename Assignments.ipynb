{
 "cells": [
  {
   "cell_type": "code",
   "execution_count": 15,
   "metadata": {},
   "outputs": [
    {
     "name": "stdout",
     "output_type": "stream",
     "text": [
      "enter a year: 2100\n",
      "2100 is not leap year\n"
     ]
    }
   ],
   "source": [
    "# Assignment 5 Data Types Leap year\n",
    "year = int(input(\"enter a year: \"))\n",
    "leap_year = ((year % 4 == 0 and year % 100 != 0) or year % 400 == 0)\n",
    "print(leap_year * f\"{year} is leap year\", (not leap_year) * f\"\\b{year} is not leap year\")"
   ]
  },
  {
   "cell_type": "code",
   "execution_count": 18,
   "metadata": {},
   "outputs": [
    {
     "name": "stdout",
     "output_type": "stream",
     "text": [
      "enter a word: osman\n",
      "True\n"
     ]
    }
   ],
   "source": [
    "# Assignment 2 Collection Types Comfortable Words  \n",
    "left = set('qwertasdfgzxcvb')\n",
    "right = set('yuiophjklnm')\n",
    "word = input(\"enter a word: \")\n",
    "set_word = set(word)\n",
    "print(bool(set_word.difference(left)) and bool(set_word.difference(right)))"
   ]
  },
  {
   "cell_type": "code",
   "execution_count": 20,
   "metadata": {},
   "outputs": [
    {
     "name": "stdout",
     "output_type": "stream",
     "text": [
      "the most frequent number is 3 and it was 4 times repeated\n"
     ]
    }
   ],
   "source": [
    "# Assignment Collection Types the Most Frequent Element\n",
    "\n",
    "numbers = [1, 3, 7, 4, 3, 0, 3, 6, 3]\n",
    "item = max(numbers, key = numbers.count)\n",
    "print(\"the most frequent number is\", item, \"and it was\", numbers.count(item), \"times repeated\")"
   ]
  },
  {
   "cell_type": "code",
   "execution_count": 4,
   "metadata": {},
   "outputs": [
    {
     "name": "stdout",
     "output_type": "stream",
     "text": [
      "enter a number12\n",
      "12 is not an Armstrong number\n"
     ]
    }
   ],
   "source": [
    "# Assignment Armstrong Number\n",
    "while True:\n",
    "    number = input(\"enter a number\")\n",
    "    digit = len(number)\n",
    "    summ = 0\n",
    "    if not number.isdigit() :\n",
    "        print(\"it is an invalid number\")\n",
    "    else:\n",
    "        for i in range(digit):\n",
    "            summ += int(number[i])**digit\n",
    "        if summ == int(number):\n",
    "            print(number, \"is an Armstrong number\")\n",
    "            break\n",
    "        else:\n",
    "            print(number, \"is not an Armstrong number\")\n",
    "            break\n",
    "        "
   ]
  },
  {
   "cell_type": "code",
   "execution_count": 9,
   "metadata": {},
   "outputs": [
    {
     "name": "stdout",
     "output_type": "stream",
     "text": [
      "enter a number: 9\n",
      "9 is not a prime number\n"
     ]
    }
   ],
   "source": [
    "# Assignment Prime Number\n",
    "n = int(input(\"enter a number: \"))\n",
    "count = 0\n",
    "for i in range(1, n+1):\n",
    "    if not(n%i) : count += 1\n",
    "if n == 0 or n ==1 or count >=3 : print (n, \"is not a prime number\")\n",
    "else : print (n, \"is a prime number\")"
   ]
  },
  {
   "cell_type": "code",
   "execution_count": null,
   "metadata": {},
   "outputs": [],
   "source": []
  }
 ],
 "metadata": {
  "kernelspec": {
   "display_name": "Python 3",
   "language": "python",
   "name": "python3"
  },
  "language_info": {
   "codemirror_mode": {
    "name": "ipython",
    "version": 3
   },
   "file_extension": ".py",
   "mimetype": "text/x-python",
   "name": "python",
   "nbconvert_exporter": "python",
   "pygments_lexer": "ipython3",
   "version": "3.7.6"
  }
 },
 "nbformat": 4,
 "nbformat_minor": 4
}
